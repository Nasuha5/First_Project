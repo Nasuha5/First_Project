{
 "cells": [
  {
   "cell_type": "markdown",
   "id": "f337bc43",
   "metadata": {},
   "source": [
    "# VIDEO GAMES SALES "
   ]
  },
  {
   "cell_type": "markdown",
   "id": "0f887e3e",
   "metadata": {},
   "source": [
    "Description\n",
    "\n",
    "1. Rank - Ranking of overall sales\n",
    "2. Name - The games name\n",
    "3. Platform - Platform of the games releasa (i.e PC,PS4, etc)\n",
    "4. Year - Year of the games release\n",
    "5. Genre - Genre of the game\n",
    "6. Publisher - Publisher of the game\n",
    "7. NA_Sales - Sales in North America (in millions)\n",
    "8. EU_Sales - Sales in Europe (in millions)\n",
    "9. JP_Sales - Sales in Japan (in millions)\n",
    "10. Other sales - Sales in the rest of the world (in millions)\n",
    "11. Global_Sales - Total worldwide sales.\n",
    "\n",
    "Dataset is from Kaggle :https://www.kaggle.com/gregorut/videogamesales"
   ]
  },
  {
   "cell_type": "markdown",
   "id": "788e7649",
   "metadata": {},
   "source": [
    "Import Pandas"
   ]
  },
  {
   "cell_type": "code",
   "execution_count": 12,
   "id": "4b8c44ca",
   "metadata": {},
   "outputs": [],
   "source": [
    "import pandas as pd\n",
    "import numpy as np\n",
    "import matplotlib.pyplot as plt\n",
    "%matplotlib inline"
   ]
  },
  {
   "cell_type": "markdown",
   "id": "e60bbd00",
   "metadata": {},
   "source": [
    "Read the Dataset"
   ]
  },
  {
   "cell_type": "code",
   "execution_count": 13,
   "id": "db1b5da6",
   "metadata": {},
   "outputs": [
    {
     "data": {
      "text/html": [
       "<div>\n",
       "<style scoped>\n",
       "    .dataframe tbody tr th:only-of-type {\n",
       "        vertical-align: middle;\n",
       "    }\n",
       "\n",
       "    .dataframe tbody tr th {\n",
       "        vertical-align: top;\n",
       "    }\n",
       "\n",
       "    .dataframe thead th {\n",
       "        text-align: right;\n",
       "    }\n",
       "</style>\n",
       "<table border=\"1\" class=\"dataframe\">\n",
       "  <thead>\n",
       "    <tr style=\"text-align: right;\">\n",
       "      <th></th>\n",
       "      <th>Rank</th>\n",
       "      <th>Name</th>\n",
       "      <th>Platform</th>\n",
       "      <th>Year</th>\n",
       "      <th>Genre</th>\n",
       "      <th>Publisher</th>\n",
       "      <th>NA_Sales</th>\n",
       "      <th>EU_Sales</th>\n",
       "      <th>JP_Sales</th>\n",
       "      <th>Other_Sales</th>\n",
       "      <th>Global_Sales</th>\n",
       "    </tr>\n",
       "  </thead>\n",
       "  <tbody>\n",
       "    <tr>\n",
       "      <th>0</th>\n",
       "      <td>1</td>\n",
       "      <td>Wii Sports</td>\n",
       "      <td>Wii</td>\n",
       "      <td>2006.0</td>\n",
       "      <td>Sports</td>\n",
       "      <td>Nintendo</td>\n",
       "      <td>41.49</td>\n",
       "      <td>29.02</td>\n",
       "      <td>3.77</td>\n",
       "      <td>8.46</td>\n",
       "      <td>82.74</td>\n",
       "    </tr>\n",
       "    <tr>\n",
       "      <th>1</th>\n",
       "      <td>2</td>\n",
       "      <td>Super Mario Bros.</td>\n",
       "      <td>NES</td>\n",
       "      <td>1985.0</td>\n",
       "      <td>Platform</td>\n",
       "      <td>Nintendo</td>\n",
       "      <td>29.08</td>\n",
       "      <td>3.58</td>\n",
       "      <td>6.81</td>\n",
       "      <td>0.77</td>\n",
       "      <td>40.24</td>\n",
       "    </tr>\n",
       "    <tr>\n",
       "      <th>2</th>\n",
       "      <td>3</td>\n",
       "      <td>Mario Kart Wii</td>\n",
       "      <td>Wii</td>\n",
       "      <td>2008.0</td>\n",
       "      <td>Racing</td>\n",
       "      <td>Nintendo</td>\n",
       "      <td>15.85</td>\n",
       "      <td>12.88</td>\n",
       "      <td>3.79</td>\n",
       "      <td>3.31</td>\n",
       "      <td>35.82</td>\n",
       "    </tr>\n",
       "    <tr>\n",
       "      <th>3</th>\n",
       "      <td>4</td>\n",
       "      <td>Wii Sports Resort</td>\n",
       "      <td>Wii</td>\n",
       "      <td>2009.0</td>\n",
       "      <td>Sports</td>\n",
       "      <td>Nintendo</td>\n",
       "      <td>15.75</td>\n",
       "      <td>11.01</td>\n",
       "      <td>3.28</td>\n",
       "      <td>2.96</td>\n",
       "      <td>33.00</td>\n",
       "    </tr>\n",
       "    <tr>\n",
       "      <th>4</th>\n",
       "      <td>5</td>\n",
       "      <td>Pokemon Red/Pokemon Blue</td>\n",
       "      <td>GB</td>\n",
       "      <td>1996.0</td>\n",
       "      <td>Role-Playing</td>\n",
       "      <td>Nintendo</td>\n",
       "      <td>11.27</td>\n",
       "      <td>8.89</td>\n",
       "      <td>10.22</td>\n",
       "      <td>1.00</td>\n",
       "      <td>31.37</td>\n",
       "    </tr>\n",
       "    <tr>\n",
       "      <th>5</th>\n",
       "      <td>6</td>\n",
       "      <td>Tetris</td>\n",
       "      <td>GB</td>\n",
       "      <td>1989.0</td>\n",
       "      <td>Puzzle</td>\n",
       "      <td>Nintendo</td>\n",
       "      <td>23.20</td>\n",
       "      <td>2.26</td>\n",
       "      <td>4.22</td>\n",
       "      <td>0.58</td>\n",
       "      <td>30.26</td>\n",
       "    </tr>\n",
       "    <tr>\n",
       "      <th>6</th>\n",
       "      <td>7</td>\n",
       "      <td>New Super Mario Bros.</td>\n",
       "      <td>DS</td>\n",
       "      <td>2006.0</td>\n",
       "      <td>Platform</td>\n",
       "      <td>Nintendo</td>\n",
       "      <td>11.38</td>\n",
       "      <td>9.23</td>\n",
       "      <td>6.50</td>\n",
       "      <td>2.90</td>\n",
       "      <td>30.01</td>\n",
       "    </tr>\n",
       "    <tr>\n",
       "      <th>7</th>\n",
       "      <td>8</td>\n",
       "      <td>Wii Play</td>\n",
       "      <td>Wii</td>\n",
       "      <td>2006.0</td>\n",
       "      <td>Misc</td>\n",
       "      <td>Nintendo</td>\n",
       "      <td>14.03</td>\n",
       "      <td>9.20</td>\n",
       "      <td>2.93</td>\n",
       "      <td>2.85</td>\n",
       "      <td>29.02</td>\n",
       "    </tr>\n",
       "    <tr>\n",
       "      <th>8</th>\n",
       "      <td>9</td>\n",
       "      <td>New Super Mario Bros. Wii</td>\n",
       "      <td>Wii</td>\n",
       "      <td>2009.0</td>\n",
       "      <td>Platform</td>\n",
       "      <td>Nintendo</td>\n",
       "      <td>14.59</td>\n",
       "      <td>7.06</td>\n",
       "      <td>4.70</td>\n",
       "      <td>2.26</td>\n",
       "      <td>28.62</td>\n",
       "    </tr>\n",
       "    <tr>\n",
       "      <th>9</th>\n",
       "      <td>10</td>\n",
       "      <td>Duck Hunt</td>\n",
       "      <td>NES</td>\n",
       "      <td>1984.0</td>\n",
       "      <td>Shooter</td>\n",
       "      <td>Nintendo</td>\n",
       "      <td>26.93</td>\n",
       "      <td>0.63</td>\n",
       "      <td>0.28</td>\n",
       "      <td>0.47</td>\n",
       "      <td>28.31</td>\n",
       "    </tr>\n",
       "  </tbody>\n",
       "</table>\n",
       "</div>"
      ],
      "text/plain": [
       "   Rank                       Name Platform    Year         Genre Publisher  \\\n",
       "0     1                 Wii Sports      Wii  2006.0        Sports  Nintendo   \n",
       "1     2          Super Mario Bros.      NES  1985.0      Platform  Nintendo   \n",
       "2     3             Mario Kart Wii      Wii  2008.0        Racing  Nintendo   \n",
       "3     4          Wii Sports Resort      Wii  2009.0        Sports  Nintendo   \n",
       "4     5   Pokemon Red/Pokemon Blue       GB  1996.0  Role-Playing  Nintendo   \n",
       "5     6                     Tetris       GB  1989.0        Puzzle  Nintendo   \n",
       "6     7      New Super Mario Bros.       DS  2006.0      Platform  Nintendo   \n",
       "7     8                   Wii Play      Wii  2006.0          Misc  Nintendo   \n",
       "8     9  New Super Mario Bros. Wii      Wii  2009.0      Platform  Nintendo   \n",
       "9    10                  Duck Hunt      NES  1984.0       Shooter  Nintendo   \n",
       "\n",
       "   NA_Sales  EU_Sales  JP_Sales  Other_Sales  Global_Sales  \n",
       "0     41.49     29.02      3.77         8.46         82.74  \n",
       "1     29.08      3.58      6.81         0.77         40.24  \n",
       "2     15.85     12.88      3.79         3.31         35.82  \n",
       "3     15.75     11.01      3.28         2.96         33.00  \n",
       "4     11.27      8.89     10.22         1.00         31.37  \n",
       "5     23.20      2.26      4.22         0.58         30.26  \n",
       "6     11.38      9.23      6.50         2.90         30.01  \n",
       "7     14.03      9.20      2.93         2.85         29.02  \n",
       "8     14.59      7.06      4.70         2.26         28.62  \n",
       "9     26.93      0.63      0.28         0.47         28.31  "
      ]
     },
     "execution_count": 13,
     "metadata": {},
     "output_type": "execute_result"
    }
   ],
   "source": [
    "vg = pd.read_csv('vgsales.csv')\n",
    "vg.head(10)"
   ]
  },
  {
   "cell_type": "markdown",
   "id": "62e8df5e",
   "metadata": {},
   "source": [
    "Identify missing data"
   ]
  },
  {
   "cell_type": "code",
   "execution_count": 14,
   "id": "b4cc95ca",
   "metadata": {},
   "outputs": [
    {
     "data": {
      "text/plain": [
       "Rank              0\n",
       "Name              0\n",
       "Platform          0\n",
       "Year            271\n",
       "Genre             0\n",
       "Publisher        58\n",
       "NA_Sales          0\n",
       "EU_Sales          0\n",
       "JP_Sales          0\n",
       "Other_Sales       0\n",
       "Global_Sales      0\n",
       "dtype: int64"
      ]
     },
     "execution_count": 14,
     "metadata": {},
     "output_type": "execute_result"
    }
   ],
   "source": [
    "vg.isnull().sum()"
   ]
  },
  {
   "cell_type": "code",
   "execution_count": 49,
   "id": "286cb7c1",
   "metadata": {},
   "outputs": [
    {
     "data": {
      "text/plain": [
       "Rank            0\n",
       "Name            0\n",
       "Platform        0\n",
       "Year            0\n",
       "Genre           0\n",
       "Publisher       0\n",
       "NA_Sales        0\n",
       "EU_Sales        0\n",
       "JP_Sales        0\n",
       "Other_Sales     0\n",
       "Global_Sales    0\n",
       "dtype: int64"
      ]
     },
     "execution_count": 49,
     "metadata": {},
     "output_type": "execute_result"
    }
   ],
   "source": [
    "vg = vg.dropna(subset=['Publisher', 'Year'], axis=0)\n",
    "vg = vg.reset_index(drop=True)\n",
    "vg.isnull().sum()"
   ]
  },
  {
   "cell_type": "code",
   "execution_count": 50,
   "id": "774fb96b",
   "metadata": {},
   "outputs": [
    {
     "name": "stdout",
     "output_type": "stream",
     "text": [
      "<class 'pandas.core.frame.DataFrame'>\n",
      "RangeIndex: 16291 entries, 0 to 16290\n",
      "Data columns (total 11 columns):\n",
      " #   Column        Non-Null Count  Dtype  \n",
      "---  ------        --------------  -----  \n",
      " 0   Rank          16291 non-null  int64  \n",
      " 1   Name          16291 non-null  object \n",
      " 2   Platform      16291 non-null  object \n",
      " 3   Year          16291 non-null  float64\n",
      " 4   Genre         16291 non-null  object \n",
      " 5   Publisher     16291 non-null  object \n",
      " 6   NA_Sales      16291 non-null  float64\n",
      " 7   EU_Sales      16291 non-null  float64\n",
      " 8   JP_Sales      16291 non-null  float64\n",
      " 9   Other_Sales   16291 non-null  float64\n",
      " 10  Global_Sales  16291 non-null  float64\n",
      "dtypes: float64(6), int64(1), object(4)\n",
      "memory usage: 1.4+ MB\n"
     ]
    }
   ],
   "source": [
    "vg.info()"
   ]
  },
  {
   "cell_type": "markdown",
   "id": "98f6d741",
   "metadata": {},
   "source": [
    "What genre games have been made the most?"
   ]
  },
  {
   "cell_type": "code",
   "execution_count": 17,
   "id": "2586699f",
   "metadata": {},
   "outputs": [
    {
     "data": {
      "text/plain": [
       "Action          3251\n",
       "Sports          2304\n",
       "Misc            1686\n",
       "Role-Playing    1470\n",
       "Shooter         1282\n",
       "Adventure       1274\n",
       "Racing          1225\n",
       "Platform         875\n",
       "Simulation       848\n",
       "Fighting         836\n",
       "Strategy         670\n",
       "Puzzle           570\n",
       "Name: Genre, dtype: int64"
      ]
     },
     "execution_count": 17,
     "metadata": {},
     "output_type": "execute_result"
    }
   ],
   "source": [
    "vg['Genre'].value_counts()"
   ]
  },
  {
   "cell_type": "markdown",
   "id": "1c2dcf2c",
   "metadata": {},
   "source": [
    "# WHICH GENRE MOST SALE IN WORLDWIDE?"
   ]
  },
  {
   "cell_type": "code",
   "execution_count": 18,
   "id": "28272e5f",
   "metadata": {},
   "outputs": [
    {
     "data": {
      "text/html": [
       "<div>\n",
       "<style scoped>\n",
       "    .dataframe tbody tr th:only-of-type {\n",
       "        vertical-align: middle;\n",
       "    }\n",
       "\n",
       "    .dataframe tbody tr th {\n",
       "        vertical-align: top;\n",
       "    }\n",
       "\n",
       "    .dataframe thead th {\n",
       "        text-align: right;\n",
       "    }\n",
       "</style>\n",
       "<table border=\"1\" class=\"dataframe\">\n",
       "  <thead>\n",
       "    <tr style=\"text-align: right;\">\n",
       "      <th></th>\n",
       "      <th>Rank</th>\n",
       "      <th>Year</th>\n",
       "      <th>NA_Sales</th>\n",
       "      <th>EU_Sales</th>\n",
       "      <th>JP_Sales</th>\n",
       "      <th>Other_Sales</th>\n",
       "      <th>Global_Sales</th>\n",
       "    </tr>\n",
       "    <tr>\n",
       "      <th>Genre</th>\n",
       "      <th></th>\n",
       "      <th></th>\n",
       "      <th></th>\n",
       "      <th></th>\n",
       "      <th></th>\n",
       "      <th></th>\n",
       "      <th></th>\n",
       "    </tr>\n",
       "  </thead>\n",
       "  <tbody>\n",
       "    <tr>\n",
       "      <th>Action</th>\n",
       "      <td>25955792</td>\n",
       "      <td>6527703.0</td>\n",
       "      <td>861.77</td>\n",
       "      <td>516.48</td>\n",
       "      <td>158.65</td>\n",
       "      <td>184.92</td>\n",
       "      <td>1722.84</td>\n",
       "    </tr>\n",
       "    <tr>\n",
       "      <th>Sports</th>\n",
       "      <td>17105195</td>\n",
       "      <td>4620621.0</td>\n",
       "      <td>670.09</td>\n",
       "      <td>371.34</td>\n",
       "      <td>134.76</td>\n",
       "      <td>132.65</td>\n",
       "      <td>1309.24</td>\n",
       "    </tr>\n",
       "    <tr>\n",
       "      <th>Shooter</th>\n",
       "      <td>9399409</td>\n",
       "      <td>2571588.0</td>\n",
       "      <td>575.16</td>\n",
       "      <td>310.45</td>\n",
       "      <td>38.18</td>\n",
       "      <td>101.90</td>\n",
       "      <td>1026.20</td>\n",
       "    </tr>\n",
       "    <tr>\n",
       "      <th>Role-Playing</th>\n",
       "      <td>11840252</td>\n",
       "      <td>2950365.0</td>\n",
       "      <td>326.50</td>\n",
       "      <td>187.57</td>\n",
       "      <td>350.29</td>\n",
       "      <td>59.38</td>\n",
       "      <td>923.83</td>\n",
       "    </tr>\n",
       "    <tr>\n",
       "      <th>Platform</th>\n",
       "      <td>6019939</td>\n",
       "      <td>1753335.0</td>\n",
       "      <td>445.99</td>\n",
       "      <td>200.65</td>\n",
       "      <td>130.65</td>\n",
       "      <td>51.51</td>\n",
       "      <td>829.13</td>\n",
       "    </tr>\n",
       "  </tbody>\n",
       "</table>\n",
       "</div>"
      ],
      "text/plain": [
       "                  Rank       Year  NA_Sales  EU_Sales  JP_Sales  Other_Sales  \\\n",
       "Genre                                                                          \n",
       "Action        25955792  6527703.0    861.77    516.48    158.65       184.92   \n",
       "Sports        17105195  4620621.0    670.09    371.34    134.76       132.65   \n",
       "Shooter        9399409  2571588.0    575.16    310.45     38.18       101.90   \n",
       "Role-Playing  11840252  2950365.0    326.50    187.57    350.29        59.38   \n",
       "Platform       6019939  1753335.0    445.99    200.65    130.65        51.51   \n",
       "\n",
       "              Global_Sales  \n",
       "Genre                       \n",
       "Action             1722.84  \n",
       "Sports             1309.24  \n",
       "Shooter            1026.20  \n",
       "Role-Playing        923.83  \n",
       "Platform            829.13  "
      ]
     },
     "execution_count": 18,
     "metadata": {},
     "output_type": "execute_result"
    }
   ],
   "source": [
    "vg.groupby('Genre').sum().sort_values(['Global_Sales'], ascending = False).head(5) \n"
   ]
  },
  {
   "cell_type": "code",
   "execution_count": 19,
   "id": "46ef11a9",
   "metadata": {},
   "outputs": [
    {
     "name": "stdout",
     "output_type": "stream",
     "text": [
      "Genre\n",
      "Action       1722.84\n",
      "Adventure     234.59\n",
      "Fighting      444.05\n",
      "Misc          789.87\n",
      "Platform      829.13\n",
      "Name: Global_Sales, dtype: float64\n"
     ]
    }
   ],
   "source": [
    "global_sales_genre = vg.groupby(by=['Genre'])['Global_Sales'].sum().head(5)\n",
    "print(global_sales_genre)"
   ]
  },
  {
   "cell_type": "code",
   "execution_count": 20,
   "id": "42526099",
   "metadata": {},
   "outputs": [
    {
     "data": {
      "image/png": "[encoded data removed]",
      "text/plain": [
       "<Figure size 432x288 with 1 Axes>"
      ]
     },
     "metadata": {
      "needs_background": "light"
     },
     "output_type": "display_data"
    }
   ],
   "source": [
    "#visualization data\n",
    "global_sales_genre.plot(kind='bar')\n",
    "plt.xlabel('Genre')\n",
    "plt.ylabel('Sales (million)')\n",
    "plt.title('Global Sales by Genre')\n",
    "plt.show()"
   ]
  },
  {
   "cell_type": "markdown",
   "id": "e028277d",
   "metadata": {},
   "source": [
    "# WHICH PLATFORM MOST SALE IN WORLWIDE?"
   ]
  },
  {
   "cell_type": "code",
   "execution_count": 22,
   "id": "6b90efa3",
   "metadata": {},
   "outputs": [
    {
     "name": "stdout",
     "output_type": "stream",
     "text": [
      "          Global_Sales\n",
      "Platform              \n",
      "PS2            1233.46\n",
      "X360            969.60\n",
      "PS3             949.35\n",
      "Wii             909.81\n",
      "DS              818.91\n"
     ]
    }
   ],
   "source": [
    "global_sales_platform = vg[['Platform','Global_Sales']].groupby('Platform').sum().sort_values('Global_Sales', ascending=False).head(5)\n",
    "print(global_sales_platform)"
   ]
  },
  {
   "cell_type": "code",
   "execution_count": 23,
   "id": "a249e559",
   "metadata": {},
   "outputs": [
    {
     "data": {
      "text/plain": [
       "<AxesSubplot:xlabel='Platform'>"
      ]
     },
     "execution_count": 23,
     "metadata": {},
     "output_type": "execute_result"
    },
    {
     "data": {
      "image/png": "[encoded data removed]",
      "text/plain": [
       "<Figure size 432x288 with 1 Axes>"
      ]
     },
     "metadata": {
      "needs_background": "light"
     },
     "output_type": "display_data"
    }
   ],
   "source": [
    "global_sales_platform.plot.bar()"
   ]
  },
  {
   "cell_type": "markdown",
   "id": "4cff3276",
   "metadata": {},
   "source": [
    "# MOST GAME SALES WORLDWIDE?"
   ]
  },
  {
   "cell_type": "code",
   "execution_count": 24,
   "id": "54b6a23c",
   "metadata": {},
   "outputs": [
    {
     "name": "stdout",
     "output_type": "stream",
     "text": [
      "Name\n",
      "Wii Sports            82.74\n",
      "Grand Theft Auto V    55.92\n",
      "Super Mario Bros.     45.31\n",
      "Tetris                35.84\n",
      "Mario Kart Wii        35.82\n",
      "Name: Global_Sales, dtype: float64\n"
     ]
    }
   ],
   "source": [
    "global_sales_name = vg.groupby('Name').sum().sort_values(['Global_Sales'], ascending=False)['Global_Sales'].head(5)\n",
    "print(global_sales_name)"
   ]
  },
  {
   "cell_type": "code",
   "execution_count": 25,
   "id": "502e1094",
   "metadata": {},
   "outputs": [
    {
     "data": {
      "image/png": "[encoded data removed]",
      "text/plain": [
       "<Figure size 432x288 with 1 Axes>"
      ]
     },
     "metadata": {
      "needs_background": "light"
     },
     "output_type": "display_data"
    }
   ],
   "source": [
    "global_sales_name.plot(kind='bar')\n",
    "plt.xlabel('Name')\n",
    "plt.ylabel('Sales (million)')\n",
    "plt.title('Most game sale')\n",
    "plt.show()"
   ]
  },
  {
   "cell_type": "markdown",
   "id": "10f56706",
   "metadata": {},
   "source": [
    "# MAXIMUM GLOBAL SALES IN YEAR\n"
   ]
  },
  {
   "cell_type": "code",
   "execution_count": 26,
   "id": "390bfa91",
   "metadata": {},
   "outputs": [
    {
     "data": {
      "text/html": [
       "<div>\n",
       "<style scoped>\n",
       "    .dataframe tbody tr th:only-of-type {\n",
       "        vertical-align: middle;\n",
       "    }\n",
       "\n",
       "    .dataframe tbody tr th {\n",
       "        vertical-align: top;\n",
       "    }\n",
       "\n",
       "    .dataframe thead th {\n",
       "        text-align: right;\n",
       "    }\n",
       "</style>\n",
       "<table border=\"1\" class=\"dataframe\">\n",
       "  <thead>\n",
       "    <tr style=\"text-align: right;\">\n",
       "      <th></th>\n",
       "      <th>Global_Sales</th>\n",
       "    </tr>\n",
       "    <tr>\n",
       "      <th>Year</th>\n",
       "      <th></th>\n",
       "    </tr>\n",
       "  </thead>\n",
       "  <tbody>\n",
       "    <tr>\n",
       "      <th>2006.0</th>\n",
       "      <td>82.74</td>\n",
       "    </tr>\n",
       "    <tr>\n",
       "      <th>1985.0</th>\n",
       "      <td>40.24</td>\n",
       "    </tr>\n",
       "    <tr>\n",
       "      <th>2008.0</th>\n",
       "      <td>35.82</td>\n",
       "    </tr>\n",
       "    <tr>\n",
       "      <th>2009.0</th>\n",
       "      <td>33.00</td>\n",
       "    </tr>\n",
       "    <tr>\n",
       "      <th>1996.0</th>\n",
       "      <td>31.37</td>\n",
       "    </tr>\n",
       "  </tbody>\n",
       "</table>\n",
       "</div>"
      ],
      "text/plain": [
       "        Global_Sales\n",
       "Year                \n",
       "2006.0         82.74\n",
       "1985.0         40.24\n",
       "2008.0         35.82\n",
       "2009.0         33.00\n",
       "1996.0         31.37"
      ]
     },
     "execution_count": 26,
     "metadata": {},
     "output_type": "execute_result"
    }
   ],
   "source": [
    "vg[['Year', 'Global_Sales']].groupby('Year').max().sort_values('Global_Sales',ascending=False).head(5)"
   ]
  },
  {
   "cell_type": "code",
   "execution_count": 27,
   "id": "99a426ed",
   "metadata": {},
   "outputs": [
    {
     "data": {
      "text/plain": [
       "Text(0, 0.5, 'Sales (in millions)')"
      ]
     },
     "execution_count": 27,
     "metadata": {},
     "output_type": "execute_result"
    },
    {
     "data": {
      "image/png": "[encoded data removed]",
      "text/plain": [
       "<Figure size 432x288 with 1 Axes>"
      ]
     },
     "metadata": {
      "needs_background": "light"
     },
     "output_type": "display_data"
    }
   ],
   "source": [
    "vg.groupby('Year').Global_Sales.max().plot(kind='line')\n",
    "plt.title('Maximum sales (Year)')\n",
    "plt.ylabel('Sales (in millions)')\n"
   ]
  },
  {
   "cell_type": "markdown",
   "id": "469a76ad",
   "metadata": {},
   "source": [
    "HOW MUCH GLOBAL SALES IN WHOLE SALE?"
   ]
  },
  {
   "cell_type": "code",
   "execution_count": 28,
   "id": "54545fae",
   "metadata": {},
   "outputs": [
    {
     "data": {
      "text/plain": [
       "8811.97"
      ]
     },
     "execution_count": 28,
     "metadata": {},
     "output_type": "execute_result"
    }
   ],
   "source": [
    "vg['Global_Sales'].sum()"
   ]
  },
  {
   "cell_type": "markdown",
   "id": "cf1ee94b",
   "metadata": {},
   "source": [
    "# THE HIGHEST GAME SALE IN JEPUN, NORTH AMERICA, EUROPS, AND OTHERS?"
   ]
  },
  {
   "cell_type": "code",
   "execution_count": 29,
   "id": "c14f69b8",
   "metadata": {},
   "outputs": [],
   "source": [
    "high_JP_sales = vg[['Name','JP_Sales']].groupby('Name').max().sort_values('JP_Sales',ascending=False).head(5)\n",
    "high_NA_sales = vg[['Name','NA_Sales']].groupby('Name').max().sort_values('NA_Sales',ascending=False).head(5)\n",
    "high_EU_sales = vg[['Name','EU_Sales']].groupby('Name').max().sort_values('EU_Sales',ascending=False).head(5)\n",
    "high_Other_sales = vg[['Name','Other_Sales']].groupby('Name').max().sort_values('Other_Sales',ascending=False).head(5)\n"
   ]
  },
  {
   "cell_type": "code",
   "execution_count": 30,
   "id": "de5571e3",
   "metadata": {},
   "outputs": [
    {
     "data": {
      "text/html": [
       "<div>\n",
       "<style scoped>\n",
       "    .dataframe tbody tr th:only-of-type {\n",
       "        vertical-align: middle;\n",
       "    }\n",
       "\n",
       "    .dataframe tbody tr th {\n",
       "        vertical-align: top;\n",
       "    }\n",
       "\n",
       "    .dataframe thead th {\n",
       "        text-align: right;\n",
       "    }\n",
       "</style>\n",
       "<table border=\"1\" class=\"dataframe\">\n",
       "  <thead>\n",
       "    <tr style=\"text-align: right;\">\n",
       "      <th></th>\n",
       "      <th>JP_Sales</th>\n",
       "    </tr>\n",
       "    <tr>\n",
       "      <th>Name</th>\n",
       "      <th></th>\n",
       "    </tr>\n",
       "  </thead>\n",
       "  <tbody>\n",
       "    <tr>\n",
       "      <th>Pokemon Red/Pokemon Blue</th>\n",
       "      <td>10.22</td>\n",
       "    </tr>\n",
       "    <tr>\n",
       "      <th>Pokemon Gold/Pokemon Silver</th>\n",
       "      <td>7.20</td>\n",
       "    </tr>\n",
       "    <tr>\n",
       "      <th>Super Mario Bros.</th>\n",
       "      <td>6.81</td>\n",
       "    </tr>\n",
       "    <tr>\n",
       "      <th>New Super Mario Bros.</th>\n",
       "      <td>6.50</td>\n",
       "    </tr>\n",
       "    <tr>\n",
       "      <th>Pokemon Diamond/Pokemon Pearl</th>\n",
       "      <td>6.04</td>\n",
       "    </tr>\n",
       "  </tbody>\n",
       "</table>\n",
       "</div>"
      ],
      "text/plain": [
       "                               JP_Sales\n",
       "Name                                   \n",
       "Pokemon Red/Pokemon Blue          10.22\n",
       "Pokemon Gold/Pokemon Silver        7.20\n",
       "Super Mario Bros.                  6.81\n",
       "New Super Mario Bros.              6.50\n",
       "Pokemon Diamond/Pokemon Pearl      6.04"
      ]
     },
     "execution_count": 30,
     "metadata": {},
     "output_type": "execute_result"
    }
   ],
   "source": [
    "high_JP_sales.head(5)"
   ]
  },
  {
   "cell_type": "code",
   "execution_count": 31,
   "id": "cdc961a5",
   "metadata": {},
   "outputs": [
    {
     "data": {
      "image/png": "[encoded data removed]",
      "text/plain": [
       "<Figure size 432x288 with 1 Axes>"
      ]
     },
     "metadata": {
      "needs_background": "light"
     },
     "output_type": "display_data"
    }
   ],
   "source": [
    "high_JP_sales.plot.bar();"
   ]
  },
  {
   "cell_type": "code",
   "execution_count": 32,
   "id": "33a66123",
   "metadata": {},
   "outputs": [
    {
     "data": {
      "text/html": [
       "<div>\n",
       "<style scoped>\n",
       "    .dataframe tbody tr th:only-of-type {\n",
       "        vertical-align: middle;\n",
       "    }\n",
       "\n",
       "    .dataframe tbody tr th {\n",
       "        vertical-align: top;\n",
       "    }\n",
       "\n",
       "    .dataframe thead th {\n",
       "        text-align: right;\n",
       "    }\n",
       "</style>\n",
       "<table border=\"1\" class=\"dataframe\">\n",
       "  <thead>\n",
       "    <tr style=\"text-align: right;\">\n",
       "      <th></th>\n",
       "      <th>NA_Sales</th>\n",
       "    </tr>\n",
       "    <tr>\n",
       "      <th>Name</th>\n",
       "      <th></th>\n",
       "    </tr>\n",
       "  </thead>\n",
       "  <tbody>\n",
       "    <tr>\n",
       "      <th>Wii Sports</th>\n",
       "      <td>41.49</td>\n",
       "    </tr>\n",
       "    <tr>\n",
       "      <th>Super Mario Bros.</th>\n",
       "      <td>29.08</td>\n",
       "    </tr>\n",
       "    <tr>\n",
       "      <th>Duck Hunt</th>\n",
       "      <td>26.93</td>\n",
       "    </tr>\n",
       "    <tr>\n",
       "      <th>Tetris</th>\n",
       "      <td>23.20</td>\n",
       "    </tr>\n",
       "    <tr>\n",
       "      <th>Mario Kart Wii</th>\n",
       "      <td>15.85</td>\n",
       "    </tr>\n",
       "  </tbody>\n",
       "</table>\n",
       "</div>"
      ],
      "text/plain": [
       "                   NA_Sales\n",
       "Name                       \n",
       "Wii Sports            41.49\n",
       "Super Mario Bros.     29.08\n",
       "Duck Hunt             26.93\n",
       "Tetris                23.20\n",
       "Mario Kart Wii        15.85"
      ]
     },
     "execution_count": 32,
     "metadata": {},
     "output_type": "execute_result"
    }
   ],
   "source": [
    "high_NA_sales.head(5)"
   ]
  },
  {
   "cell_type": "code",
   "execution_count": 33,
   "id": "0befcf60",
   "metadata": {},
   "outputs": [
    {
     "data": {
      "image/png": "[encoded data removed]",
      "text/plain": [
       "<Figure size 432x288 with 1 Axes>"
      ]
     },
     "metadata": {
      "needs_background": "light"
     },
     "output_type": "display_data"
    }
   ],
   "source": [
    "high_NA_sales.plot.bar();"
   ]
  },
  {
   "cell_type": "code",
   "execution_count": 34,
   "id": "47433f18",
   "metadata": {},
   "outputs": [
    {
     "data": {
      "text/html": [
       "<div>\n",
       "<style scoped>\n",
       "    .dataframe tbody tr th:only-of-type {\n",
       "        vertical-align: middle;\n",
       "    }\n",
       "\n",
       "    .dataframe tbody tr th {\n",
       "        vertical-align: top;\n",
       "    }\n",
       "\n",
       "    .dataframe thead th {\n",
       "        text-align: right;\n",
       "    }\n",
       "</style>\n",
       "<table border=\"1\" class=\"dataframe\">\n",
       "  <thead>\n",
       "    <tr style=\"text-align: right;\">\n",
       "      <th></th>\n",
       "      <th>EU_Sales</th>\n",
       "    </tr>\n",
       "    <tr>\n",
       "      <th>Name</th>\n",
       "      <th></th>\n",
       "    </tr>\n",
       "  </thead>\n",
       "  <tbody>\n",
       "    <tr>\n",
       "      <th>Wii Sports</th>\n",
       "      <td>29.02</td>\n",
       "    </tr>\n",
       "    <tr>\n",
       "      <th>Mario Kart Wii</th>\n",
       "      <td>12.88</td>\n",
       "    </tr>\n",
       "    <tr>\n",
       "      <th>Wii Sports Resort</th>\n",
       "      <td>11.01</td>\n",
       "    </tr>\n",
       "    <tr>\n",
       "      <th>Nintendogs</th>\n",
       "      <td>11.00</td>\n",
       "    </tr>\n",
       "    <tr>\n",
       "      <th>Grand Theft Auto V</th>\n",
       "      <td>9.27</td>\n",
       "    </tr>\n",
       "  </tbody>\n",
       "</table>\n",
       "</div>"
      ],
      "text/plain": [
       "                    EU_Sales\n",
       "Name                        \n",
       "Wii Sports             29.02\n",
       "Mario Kart Wii         12.88\n",
       "Wii Sports Resort      11.01\n",
       "Nintendogs             11.00\n",
       "Grand Theft Auto V      9.27"
      ]
     },
     "execution_count": 34,
     "metadata": {},
     "output_type": "execute_result"
    }
   ],
   "source": [
    "high_EU_sales.head(5)"
   ]
  },
  {
   "cell_type": "code",
   "execution_count": 35,
   "id": "c236aa20",
   "metadata": {},
   "outputs": [
    {
     "data": {
      "image/png": "[encoded data removed]",
      "text/plain": [
       "<Figure size 432x288 with 1 Axes>"
      ]
     },
     "metadata": {
      "needs_background": "light"
     },
     "output_type": "display_data"
    }
   ],
   "source": [
    "high_EU_sales.plot.bar();"
   ]
  },
  {
   "cell_type": "code",
   "execution_count": 36,
   "id": "83f5534c",
   "metadata": {},
   "outputs": [
    {
     "data": {
      "text/html": [
       "<div>\n",
       "<style scoped>\n",
       "    .dataframe tbody tr th:only-of-type {\n",
       "        vertical-align: middle;\n",
       "    }\n",
       "\n",
       "    .dataframe tbody tr th {\n",
       "        vertical-align: top;\n",
       "    }\n",
       "\n",
       "    .dataframe thead th {\n",
       "        text-align: right;\n",
       "    }\n",
       "</style>\n",
       "<table border=\"1\" class=\"dataframe\">\n",
       "  <thead>\n",
       "    <tr style=\"text-align: right;\">\n",
       "      <th></th>\n",
       "      <th>Other_Sales</th>\n",
       "    </tr>\n",
       "    <tr>\n",
       "      <th>Name</th>\n",
       "      <th></th>\n",
       "    </tr>\n",
       "  </thead>\n",
       "  <tbody>\n",
       "    <tr>\n",
       "      <th>Grand Theft Auto: San Andreas</th>\n",
       "      <td>10.57</td>\n",
       "    </tr>\n",
       "    <tr>\n",
       "      <th>Wii Sports</th>\n",
       "      <td>8.46</td>\n",
       "    </tr>\n",
       "    <tr>\n",
       "      <th>Gran Turismo 4</th>\n",
       "      <td>7.53</td>\n",
       "    </tr>\n",
       "    <tr>\n",
       "      <th>Grand Theft Auto V</th>\n",
       "      <td>4.14</td>\n",
       "    </tr>\n",
       "    <tr>\n",
       "      <th>Mario Kart Wii</th>\n",
       "      <td>3.31</td>\n",
       "    </tr>\n",
       "  </tbody>\n",
       "</table>\n",
       "</div>"
      ],
      "text/plain": [
       "                               Other_Sales\n",
       "Name                                      \n",
       "Grand Theft Auto: San Andreas        10.57\n",
       "Wii Sports                            8.46\n",
       "Gran Turismo 4                        7.53\n",
       "Grand Theft Auto V                    4.14\n",
       "Mario Kart Wii                        3.31"
      ]
     },
     "execution_count": 36,
     "metadata": {},
     "output_type": "execute_result"
    }
   ],
   "source": [
    "high_Other_sales.head(5)"
   ]
  },
  {
   "cell_type": "code",
   "execution_count": 37,
   "id": "34fd51bf",
   "metadata": {},
   "outputs": [
    {
     "data": {
      "image/png": "[encoded data removed]",
      "text/plain": [
       "<Figure size 432x288 with 1 Axes>"
      ]
     },
     "metadata": {
      "needs_background": "light"
     },
     "output_type": "display_data"
    }
   ],
   "source": [
    "high_Other_sales.plot.bar();"
   ]
  },
  {
   "cell_type": "code",
   "execution_count": 38,
   "id": "ae0f618e",
   "metadata": {},
   "outputs": [
    {
     "data": {
      "text/html": [
       "<div>\n",
       "<style scoped>\n",
       "    .dataframe tbody tr th:only-of-type {\n",
       "        vertical-align: middle;\n",
       "    }\n",
       "\n",
       "    .dataframe tbody tr th {\n",
       "        vertical-align: top;\n",
       "    }\n",
       "\n",
       "    .dataframe thead th {\n",
       "        text-align: right;\n",
       "    }\n",
       "</style>\n",
       "<table border=\"1\" class=\"dataframe\">\n",
       "  <thead>\n",
       "    <tr style=\"text-align: right;\">\n",
       "      <th></th>\n",
       "      <th>Rank</th>\n",
       "      <th>Name</th>\n",
       "      <th>Platform</th>\n",
       "      <th>Year</th>\n",
       "      <th>Genre</th>\n",
       "      <th>Publisher</th>\n",
       "      <th>NA_Sales</th>\n",
       "      <th>EU_Sales</th>\n",
       "      <th>JP_Sales</th>\n",
       "      <th>Other_Sales</th>\n",
       "      <th>Global_Sales</th>\n",
       "    </tr>\n",
       "  </thead>\n",
       "  <tbody>\n",
       "    <tr>\n",
       "      <th>0</th>\n",
       "      <td>1</td>\n",
       "      <td>Wii Sports</td>\n",
       "      <td>Wii</td>\n",
       "      <td>2006.0</td>\n",
       "      <td>Sports</td>\n",
       "      <td>Nintendo</td>\n",
       "      <td>41.49</td>\n",
       "      <td>29.02</td>\n",
       "      <td>3.77</td>\n",
       "      <td>8.46</td>\n",
       "      <td>82.74</td>\n",
       "    </tr>\n",
       "    <tr>\n",
       "      <th>1</th>\n",
       "      <td>2</td>\n",
       "      <td>Super Mario Bros.</td>\n",
       "      <td>NES</td>\n",
       "      <td>1985.0</td>\n",
       "      <td>Platform</td>\n",
       "      <td>Nintendo</td>\n",
       "      <td>29.08</td>\n",
       "      <td>3.58</td>\n",
       "      <td>6.81</td>\n",
       "      <td>0.77</td>\n",
       "      <td>40.24</td>\n",
       "    </tr>\n",
       "    <tr>\n",
       "      <th>2</th>\n",
       "      <td>3</td>\n",
       "      <td>Mario Kart Wii</td>\n",
       "      <td>Wii</td>\n",
       "      <td>2008.0</td>\n",
       "      <td>Racing</td>\n",
       "      <td>Nintendo</td>\n",
       "      <td>15.85</td>\n",
       "      <td>12.88</td>\n",
       "      <td>3.79</td>\n",
       "      <td>3.31</td>\n",
       "      <td>35.82</td>\n",
       "    </tr>\n",
       "    <tr>\n",
       "      <th>3</th>\n",
       "      <td>4</td>\n",
       "      <td>Wii Sports Resort</td>\n",
       "      <td>Wii</td>\n",
       "      <td>2009.0</td>\n",
       "      <td>Sports</td>\n",
       "      <td>Nintendo</td>\n",
       "      <td>15.75</td>\n",
       "      <td>11.01</td>\n",
       "      <td>3.28</td>\n",
       "      <td>2.96</td>\n",
       "      <td>33.00</td>\n",
       "    </tr>\n",
       "    <tr>\n",
       "      <th>4</th>\n",
       "      <td>5</td>\n",
       "      <td>Pokemon Red/Pokemon Blue</td>\n",
       "      <td>GB</td>\n",
       "      <td>1996.0</td>\n",
       "      <td>Role-Playing</td>\n",
       "      <td>Nintendo</td>\n",
       "      <td>11.27</td>\n",
       "      <td>8.89</td>\n",
       "      <td>10.22</td>\n",
       "      <td>1.00</td>\n",
       "      <td>31.37</td>\n",
       "    </tr>\n",
       "  </tbody>\n",
       "</table>\n",
       "</div>"
      ],
      "text/plain": [
       "   Rank                      Name Platform    Year         Genre Publisher  \\\n",
       "0     1                Wii Sports      Wii  2006.0        Sports  Nintendo   \n",
       "1     2         Super Mario Bros.      NES  1985.0      Platform  Nintendo   \n",
       "2     3            Mario Kart Wii      Wii  2008.0        Racing  Nintendo   \n",
       "3     4         Wii Sports Resort      Wii  2009.0        Sports  Nintendo   \n",
       "4     5  Pokemon Red/Pokemon Blue       GB  1996.0  Role-Playing  Nintendo   \n",
       "\n",
       "   NA_Sales  EU_Sales  JP_Sales  Other_Sales  Global_Sales  \n",
       "0     41.49     29.02      3.77         8.46         82.74  \n",
       "1     29.08      3.58      6.81         0.77         40.24  \n",
       "2     15.85     12.88      3.79         3.31         35.82  \n",
       "3     15.75     11.01      3.28         2.96         33.00  \n",
       "4     11.27      8.89     10.22         1.00         31.37  "
      ]
     },
     "execution_count": 38,
     "metadata": {},
     "output_type": "execute_result"
    }
   ],
   "source": [
    "vg.head()"
   ]
  },
  {
   "cell_type": "markdown",
   "id": "7b4b8680",
   "metadata": {},
   "source": [
    "#  SALES ACROSS REGIONS "
   ]
  },
  {
   "cell_type": "code",
   "execution_count": 39,
   "id": "6a7ce7e3",
   "metadata": {},
   "outputs": [
    {
     "data": {
      "text/plain": [
       "NA_Sales       4327.65\n",
       "EU_Sales       2406.69\n",
       "JP_Sales       1284.27\n",
       "Other_Sales     788.91\n",
       "dtype: float64"
      ]
     },
     "execution_count": 39,
     "metadata": {},
     "output_type": "execute_result"
    }
   ],
   "source": [
    "regions_sales = vg.iloc[:,6:10 ]\n",
    "regions_sales = regions_sales.sum()\n",
    "regions_sales"
   ]
  },
  {
   "cell_type": "code",
   "execution_count": 40,
   "id": "196cea58",
   "metadata": {},
   "outputs": [
    {
     "data": {
      "image/png": "[encoded data removed]",
      "text/plain": [
       "<Figure size 432x288 with 1 Axes>"
      ]
     },
     "metadata": {
      "needs_background": "light"
     },
     "output_type": "display_data"
    }
   ],
   "source": [
    "regions_sales.plot(kind='barh')\n",
    "plt.xlabel('Sales(million)')\n",
    "plt.ylabel('Region')\n",
    "plt.title('Sales across regions')\n",
    "plt.show()"
   ]
  },
  {
   "cell_type": "markdown",
   "id": "ed410743",
   "metadata": {},
   "source": [
    "# Unique Genre, Platform, Publisher"
   ]
  },
  {
   "cell_type": "code",
   "execution_count": 41,
   "id": "4306a124",
   "metadata": {},
   "outputs": [
    {
     "data": {
      "text/plain": [
       "array(['Sports', 'Platform', 'Racing', 'Role-Playing', 'Puzzle', 'Misc',\n",
       "       'Shooter', 'Simulation', 'Action', 'Fighting', 'Adventure',\n",
       "       'Strategy'], dtype=object)"
      ]
     },
     "execution_count": 41,
     "metadata": {},
     "output_type": "execute_result"
    }
   ],
   "source": [
    "vg.Genre.unique()"
   ]
  },
  {
   "cell_type": "code",
   "execution_count": 42,
   "id": "9290c660",
   "metadata": {},
   "outputs": [
    {
     "data": {
      "text/plain": [
       "array(['Wii', 'NES', 'GB', 'DS', 'X360', 'PS3', 'PS2', 'SNES', 'GBA',\n",
       "       '3DS', 'PS4', 'N64', 'PS', 'XB', 'PC', '2600', 'PSP', 'XOne', 'GC',\n",
       "       'WiiU', 'GEN', 'DC', 'PSV', 'SAT', 'SCD', 'WS', 'NG', 'TG16',\n",
       "       '3DO', 'GG', 'PCFX'], dtype=object)"
      ]
     },
     "execution_count": 42,
     "metadata": {},
     "output_type": "execute_result"
    }
   ],
   "source": [
    "vg.Platform.unique()"
   ]
  },
  {
   "cell_type": "code",
   "execution_count": 43,
   "id": "ab009ce2",
   "metadata": {},
   "outputs": [
    {
     "data": {
      "text/plain": [
       "array(['Nintendo', 'Microsoft Game Studios', 'Take-Two Interactive',\n",
       "       'Sony Computer Entertainment', 'Activision', 'Ubisoft',\n",
       "       'Bethesda Softworks', 'Electronic Arts', 'Sega', 'SquareSoft',\n",
       "       'Atari', '505 Games', 'Capcom', 'GT Interactive',\n",
       "       'Konami Digital Entertainment',\n",
       "       'Sony Computer Entertainment Europe', 'Square Enix', 'LucasArts',\n",
       "       'Virgin Interactive', 'Warner Bros. Interactive Entertainment',\n",
       "       'Universal Interactive', 'Eidos Interactive', 'RedOctane',\n",
       "       'Vivendi Games', 'Enix Corporation', 'Namco Bandai Games',\n",
       "       'Palcom', 'Hasbro Interactive', 'THQ', 'Fox Interactive',\n",
       "       'Acclaim Entertainment', 'MTV Games', 'Disney Interactive Studios',\n",
       "       'Majesco Entertainment', 'Codemasters', 'Red Orb', 'Level 5',\n",
       "       'Arena Entertainment', 'Midway Games', 'JVC', 'Deep Silver',\n",
       "       '989 Studios', 'NCSoft', 'UEP Systems', 'Parker Bros.', 'Maxis',\n",
       "       'Imagic', 'Tecmo Koei', 'Valve Software', 'ASCII Entertainment',\n",
       "       'Mindscape', 'Infogrames', 'Unknown', 'Square', 'Valve',\n",
       "       'Activision Value', 'Banpresto', 'D3Publisher',\n",
       "       'Oxygen Interactive', 'Red Storm Entertainment', 'Video System',\n",
       "       'Hello Games', 'Global Star', 'Gotham Games', 'Westwood Studios',\n",
       "       'GungHo', 'Crave Entertainment', 'Hudson Soft', 'Coleco',\n",
       "       'Rising Star Games', 'Atlus', 'TDK Mediactive', 'ASC Games',\n",
       "       'Zoo Games', 'Accolade', 'Sony Online Entertainment', '3DO', 'RTL',\n",
       "       'Natsume', 'Focus Home Interactive', 'Alchemist',\n",
       "       'Black Label Games', 'SouthPeak Games', 'Mastertronic', 'Ocean',\n",
       "       'Zoo Digital Publishing', 'Psygnosis', 'City Interactive',\n",
       "       'Empire Interactive', 'Success', 'Compile', 'Russel', 'Taito',\n",
       "       'Agetec', 'GSP', 'Microprose', 'Play It', 'Slightly Mad Studios',\n",
       "       'Tomy Corporation', 'Sammy Corporation', 'Koch Media',\n",
       "       'Game Factory', 'Titus', 'Marvelous Entertainment', 'Genki',\n",
       "       'Mojang', 'Pinnacle', 'CTO SpA', 'TalonSoft', 'Crystal Dynamics',\n",
       "       'SCi', 'Quelle', 'mixi, Inc', 'Rage Software', 'Ubisoft Annecy',\n",
       "       'Scholastic Inc.', 'Interplay', 'Mystique', 'ChunSoft',\n",
       "       'Square EA', '20th Century Fox Video Games', 'Avanquest Software',\n",
       "       'Hudson Entertainment', 'Nordic Games', 'Men-A-Vision', 'Nobilis',\n",
       "       'Big Ben Interactive', 'Touchstone', 'Spike', 'Jester Interactive',\n",
       "       'Nippon Ichi Software', 'LEGO Media', 'Quest',\n",
       "       'Illusion Softworks', 'Tigervision', 'Funbox Media',\n",
       "       'Rocket Company', 'Metro 3D', 'Mattel Interactive', 'IE Institute',\n",
       "       'Rondomedia', 'Sony Computer Entertainment America',\n",
       "       'Universal Gamex', 'Ghostlight', 'Wizard Video Games',\n",
       "       'BMG Interactive Entertainment', 'PQube', 'Trion Worlds', 'Laguna',\n",
       "       'Ignition Entertainment', 'Takara', 'Kadokawa Shoten', 'Destineer',\n",
       "       'Enterbrain', 'Xseed Games', 'Imagineer',\n",
       "       'System 3 Arcade Software', 'CPG Products', 'Aruze Corp',\n",
       "       'Gamebridge', 'Midas Interactive Entertainment', 'Jaleco',\n",
       "       'Answer Software', 'XS Games', 'Activision Blizzard',\n",
       "       'Pack In Soft', 'Rebellion', 'Xplosiv', 'GameMill Entertainment',\n",
       "       'Wanadoo', 'NovaLogic', 'Telltale Games', 'Epoch',\n",
       "       'BAM! Entertainment', 'Knowledge Adventure', 'Mastiff',\n",
       "       'Tetris Online', 'Harmonix Music Systems', 'ESP', 'TYO',\n",
       "       'Telegames', 'Mud Duck Productions', 'Screenlife', 'Pioneer LDC',\n",
       "       'Magical Company', 'Mentor Interactive', 'Kemco',\n",
       "       'Human Entertainment', 'Avanquest', 'Data Age',\n",
       "       'Electronic Arts Victor', 'Black Bean Games', 'Jack of All Games',\n",
       "       '989 Sports', 'Takara Tomy', 'Media Rings', 'Elf', 'Starfish',\n",
       "       'Zushi Games', 'Jorudan', 'Destination Software, Inc', 'New',\n",
       "       'Brash Entertainment', 'ITT Family Games', 'PopCap Games',\n",
       "       'Home Entertainment Suppliers', 'Ackkstudios', 'Starpath Corp.',\n",
       "       'P2 Games', 'BPS', 'Gathering of Developers', 'NewKidCo',\n",
       "       'Storm City Games', 'CokeM Interactive', 'CBS Electronics',\n",
       "       'Magix', 'Marvelous Interactive', 'Kalypso Media',\n",
       "       'Nihon Falcom Corporation', 'Wargaming.net', 'Angel Studios',\n",
       "       'Arc System Works', 'Playmates', 'SNK Playmore',\n",
       "       'Hamster Corporation', 'From Software', 'Nippon Columbia',\n",
       "       'Nichibutsu', 'Little Orbit', 'Conspiracy Entertainment',\n",
       "       'DTP Entertainment', 'Hect', 'Mumbo Jumbo',\n",
       "       'Pacific Century Cyber Works', 'Indie Games', 'Liquid Games',\n",
       "       'NEC', 'Axela', 'ArtDink', 'Sunsoft', 'Gust', 'SNK',\n",
       "       'NEC Interchannel', 'FuRyu', 'Xing Entertainment', 'ValuSoft',\n",
       "       'Victor Interactive', 'Detn8 Games', 'American Softworks',\n",
       "       'Nordcurrent', 'Bomb', 'Falcom Corporation', 'AQ Interactive',\n",
       "       'CCP', 'Milestone S.r.l.', 'JoWood Productions',\n",
       "       'Seta Corporation', 'On Demand', 'NCS', 'Aspyr',\n",
       "       'Gremlin Interactive Ltd', 'Agatsuma Entertainment',\n",
       "       'Compile Heart', 'Culture Brain', 'Mad Catz', 'Shogakukan',\n",
       "       'Merscom LLC', 'Rebellion Developments', 'Nippon Telenet',\n",
       "       'TDK Core', 'bitComposer Games', 'Foreign Media Games', 'Astragon',\n",
       "       'SSI', 'Kadokawa Games', 'Idea Factory',\n",
       "       'Performance Designed Products', 'Asylum Entertainment',\n",
       "       'Core Design Ltd.', 'PlayV', 'UFO Interactive',\n",
       "       'Idea Factory International', 'Playlogic Game Factory',\n",
       "       'Essential Games', 'Adeline Software', 'Funcom',\n",
       "       'Panther Software', 'Blast! Entertainment Ltd', 'Game Life',\n",
       "       'DSI Games', 'Avalon Interactive', 'Popcorn Arcade',\n",
       "       'Neko Entertainment', 'Vir2L Studios', 'Aques', 'Syscom',\n",
       "       'White Park Bay Software', 'System 3', 'Vatical Entertainment',\n",
       "       'Daedalic', 'EA Games', 'Media Factory', 'Vic Tokai',\n",
       "       'The Adventure Company', 'Game Arts', 'Broccoli', 'Acquire',\n",
       "       'General Entertainment', 'Excalibur Publishing', 'Imadio',\n",
       "       'Swing! Entertainment', 'Sony Music Entertainment', 'Aqua Plus',\n",
       "       'Paradox Interactive', 'Hip Interactive',\n",
       "       'DreamCatcher Interactive', 'Tripwire Interactive', 'Sting',\n",
       "       'Yacht Club Games', 'SCS Software', 'Bigben Interactive',\n",
       "       'Havas Interactive', 'Slitherine Software', 'Graffiti', 'Funsta',\n",
       "       'Telstar', 'U.S. Gold', 'DreamWorks Interactive',\n",
       "       'Data Design Interactive', 'MTO', 'DHM Interactive', 'FunSoft',\n",
       "       'SPS', 'Bohemia Interactive', 'Reef Entertainment',\n",
       "       'Tru Blu Entertainment', 'Moss', 'T&E Soft', 'O-Games',\n",
       "       'Aksys Games', 'NDA Productions', 'Data East',\n",
       "       'Time Warner Interactive', 'Gainax Network Systems', 'Daito',\n",
       "       'O3 Entertainment', 'Gameloft', 'Xicat Interactive',\n",
       "       'Simon & Schuster Interactive', 'Valcon Games', 'PopTop Software',\n",
       "       'TOHO', 'HMH Interactive', '5pb', 'Cave',\n",
       "       'CDV Software Entertainment', 'Microids', 'PM Studios', 'Paon',\n",
       "       'Micro Cabin', 'GameTek', 'Benesse', 'Type-Moon',\n",
       "       'Enjoy Gaming ltd.', 'Asmik Corp', 'Interplay Productions',\n",
       "       'Asmik Ace Entertainment', 'inXile Entertainment', 'Image Epoch',\n",
       "       'Phantom EFX', 'Evolved Games', 'responDESIGN',\n",
       "       'Culture Publishers', 'Griffin International', 'Hackberry',\n",
       "       'Hearty Robin', 'Nippon Amuse', 'Origin Systems', 'Seventh Chord',\n",
       "       'Mitsui', 'Milestone', 'Abylight', 'Flight-Plan', 'Glams', 'Locus',\n",
       "       'Warp', 'Daedalic Entertainment', 'Alternative Software',\n",
       "       'Myelin Media', 'Mercury Games', 'Irem Software Engineering',\n",
       "       'Sunrise Interactive', 'Elite', 'Evolution Games', 'Tivola',\n",
       "       'Global A Entertainment', 'Edia', 'Athena', 'Aria', 'Gamecock',\n",
       "       'Tommo', 'Altron', 'Happinet', 'iWin', 'Media Works', 'Fortyfive',\n",
       "       'Revolution Software', 'Imax', 'Crimson Cow', '10TACLE Studios',\n",
       "       'Groove Games', 'Pack-In-Video', 'Insomniac Games',\n",
       "       'Ascaron Entertainment GmbH', 'Asgard', 'Ecole', 'Yumedia',\n",
       "       'Phenomedia', 'HAL Laboratory', 'Grand Prix Games', 'DigiCube',\n",
       "       'Creative Core', 'Kaga Create', 'WayForward Technologies',\n",
       "       'LSP Games', 'ASCII Media Works', 'Coconuts Japan', 'Arika',\n",
       "       'Ertain', 'Marvel Entertainment', 'Prototype', 'Phantagram',\n",
       "       '1C Company', 'The Learning Company', 'TechnoSoft', 'Vap',\n",
       "       'Misawa', 'Tradewest', 'Team17 Software', 'Yeti', 'Pow',\n",
       "       'Navarre Corp', 'MediaQuest', 'Max Five', 'Comfort',\n",
       "       'Monte Christo Multimedia', 'Pony Canyon', 'Riverhillsoft',\n",
       "       'Summitsoft', 'Milestone S.r.l', 'Playmore', 'MLB.com',\n",
       "       'Kool Kizz', 'Flashpoint Games', '49Games', 'Legacy Interactive',\n",
       "       'Alawar Entertainment', 'CyberFront',\n",
       "       'Cloud Imperium Games Corporation', 'Societa',\n",
       "       'Virtual Play Games', 'Interchannel', 'Sonnet', 'Experience Inc.',\n",
       "       'Zenrin', 'Iceberg Interactive', 'Ivolgamus', '2D Boy',\n",
       "       'MC2 Entertainment', 'Kando Games', 'Just Flight', 'Office Create',\n",
       "       'Mamba Games', 'Fields', 'Princess Soft', 'Maximum Family Games',\n",
       "       'Berkeley', 'Fuji', 'Dusenberry Martin Racing', 'imageepoch Inc.',\n",
       "       'Big Fish Games', 'Her Interactive', 'Kamui', 'ASK',\n",
       "       'TopWare Interactive', 'Headup Games', 'KSS', 'Cygames', 'KID',\n",
       "       'Quinrose', 'Sunflowers', 'dramatic create', 'TGL', 'Encore',\n",
       "       'Extreme Entertainment Group', 'Intergrow', 'G.Rev', 'Sweets',\n",
       "       'Kokopeli Digital Studios', 'Number None', 'Nexon', 'id Software',\n",
       "       'BushiRoad', 'Tryfirst', 'Strategy First', '7G//AMES',\n",
       "       'GN Software', \"Yuke's\", 'Easy Interactive', 'Licensed 4U',\n",
       "       'FuRyu Corporation', 'Lexicon Entertainment', 'Paon Corporation',\n",
       "       'Kids Station', 'GOA', 'Graphsim Entertainment', 'King Records',\n",
       "       'Introversion Software', 'Minato Station', 'Devolver Digital',\n",
       "       'Blue Byte', 'Gaga', 'Yamasa Entertainment', 'Plenty', 'Views',\n",
       "       'fonfun', 'NetRevo', 'Codemasters Online', 'Quintet',\n",
       "       'Phoenix Games', 'Dorart', 'Marvelous Games', 'Focus Multimedia',\n",
       "       'Imageworks', 'Karin Entertainment', 'Aerosoft',\n",
       "       'Technos Japan Corporation', 'Gakken', 'Mirai Shounen',\n",
       "       'Datam Polystar', 'Saurus', 'HuneX', 'Revolution (Japan)',\n",
       "       'Giza10', 'Visco', 'Alvion', 'Mycom', 'Giga', 'Warashi',\n",
       "       'System Soft', 'Sold Out', 'Lighthouse Interactive',\n",
       "       'Masque Publishing', 'RED Entertainment', 'Michaelsoft',\n",
       "       'Media Entertainment', 'New World Computing', 'Genterprise',\n",
       "       'Interworks Unlimited, Inc.', 'Boost On', 'Stainless Games',\n",
       "       'EON Digital Entertainment', 'Epic Games', 'Naxat Soft',\n",
       "       'Ascaron Entertainment', 'Piacci', 'Nitroplus',\n",
       "       'Paradox Development', 'Otomate', 'Ongakukan', 'Commseed',\n",
       "       'Inti Creates', 'Takuyo', 'Interchannel-Holon', 'Rain Games',\n",
       "       'UIG Entertainment'], dtype=object)"
      ]
     },
     "execution_count": 43,
     "metadata": {},
     "output_type": "execute_result"
    }
   ],
   "source": [
    "vg.Publisher.unique()"
   ]
  },
  {
   "cell_type": "markdown",
   "id": "0aaa1705",
   "metadata": {},
   "source": [
    "# THE GENRE, CLASS!"
   ]
  },
  {
   "cell_type": "code",
   "execution_count": 44,
   "id": "a44fb12d",
   "metadata": {},
   "outputs": [
    {
     "data": {
      "text/html": [
       "<div>\n",
       "<style scoped>\n",
       "    .dataframe tbody tr th:only-of-type {\n",
       "        vertical-align: middle;\n",
       "    }\n",
       "\n",
       "    .dataframe tbody tr th {\n",
       "        vertical-align: top;\n",
       "    }\n",
       "\n",
       "    .dataframe thead th {\n",
       "        text-align: right;\n",
       "    }\n",
       "</style>\n",
       "<table border=\"1\" class=\"dataframe\">\n",
       "  <thead>\n",
       "    <tr style=\"text-align: right;\">\n",
       "      <th></th>\n",
       "      <th>Rank</th>\n",
       "      <th>Name</th>\n",
       "      <th>Platform</th>\n",
       "      <th>Year</th>\n",
       "      <th>Genre</th>\n",
       "      <th>Publisher</th>\n",
       "      <th>NA_Sales</th>\n",
       "      <th>EU_Sales</th>\n",
       "      <th>JP_Sales</th>\n",
       "      <th>Other_Sales</th>\n",
       "      <th>Global_Sales</th>\n",
       "    </tr>\n",
       "  </thead>\n",
       "  <tbody>\n",
       "    <tr>\n",
       "      <th>0</th>\n",
       "      <td>1</td>\n",
       "      <td>Wii Sports</td>\n",
       "      <td>Wii</td>\n",
       "      <td>2006.0</td>\n",
       "      <td>Sports</td>\n",
       "      <td>Nintendo</td>\n",
       "      <td>41.49</td>\n",
       "      <td>29.02</td>\n",
       "      <td>3.77</td>\n",
       "      <td>8.46</td>\n",
       "      <td>82.74</td>\n",
       "    </tr>\n",
       "    <tr>\n",
       "      <th>1</th>\n",
       "      <td>2</td>\n",
       "      <td>Super Mario Bros.</td>\n",
       "      <td>NES</td>\n",
       "      <td>1985.0</td>\n",
       "      <td>Platform</td>\n",
       "      <td>Nintendo</td>\n",
       "      <td>29.08</td>\n",
       "      <td>3.58</td>\n",
       "      <td>6.81</td>\n",
       "      <td>0.77</td>\n",
       "      <td>40.24</td>\n",
       "    </tr>\n",
       "    <tr>\n",
       "      <th>2</th>\n",
       "      <td>3</td>\n",
       "      <td>Mario Kart Wii</td>\n",
       "      <td>Wii</td>\n",
       "      <td>2008.0</td>\n",
       "      <td>Racing</td>\n",
       "      <td>Nintendo</td>\n",
       "      <td>15.85</td>\n",
       "      <td>12.88</td>\n",
       "      <td>3.79</td>\n",
       "      <td>3.31</td>\n",
       "      <td>35.82</td>\n",
       "    </tr>\n",
       "    <tr>\n",
       "      <th>3</th>\n",
       "      <td>4</td>\n",
       "      <td>Wii Sports Resort</td>\n",
       "      <td>Wii</td>\n",
       "      <td>2009.0</td>\n",
       "      <td>Sports</td>\n",
       "      <td>Nintendo</td>\n",
       "      <td>15.75</td>\n",
       "      <td>11.01</td>\n",
       "      <td>3.28</td>\n",
       "      <td>2.96</td>\n",
       "      <td>33.00</td>\n",
       "    </tr>\n",
       "    <tr>\n",
       "      <th>4</th>\n",
       "      <td>5</td>\n",
       "      <td>Pokemon Red/Pokemon Blue</td>\n",
       "      <td>GB</td>\n",
       "      <td>1996.0</td>\n",
       "      <td>Role-Playing</td>\n",
       "      <td>Nintendo</td>\n",
       "      <td>11.27</td>\n",
       "      <td>8.89</td>\n",
       "      <td>10.22</td>\n",
       "      <td>1.00</td>\n",
       "      <td>31.37</td>\n",
       "    </tr>\n",
       "  </tbody>\n",
       "</table>\n",
       "</div>"
      ],
      "text/plain": [
       "   Rank                      Name Platform    Year         Genre Publisher  \\\n",
       "0     1                Wii Sports      Wii  2006.0        Sports  Nintendo   \n",
       "1     2         Super Mario Bros.      NES  1985.0      Platform  Nintendo   \n",
       "2     3            Mario Kart Wii      Wii  2008.0        Racing  Nintendo   \n",
       "3     4         Wii Sports Resort      Wii  2009.0        Sports  Nintendo   \n",
       "4     5  Pokemon Red/Pokemon Blue       GB  1996.0  Role-Playing  Nintendo   \n",
       "\n",
       "   NA_Sales  EU_Sales  JP_Sales  Other_Sales  Global_Sales  \n",
       "0     41.49     29.02      3.77         8.46         82.74  \n",
       "1     29.08      3.58      6.81         0.77         40.24  \n",
       "2     15.85     12.88      3.79         3.31         35.82  \n",
       "3     15.75     11.01      3.28         2.96         33.00  \n",
       "4     11.27      8.89     10.22         1.00         31.37  "
      ]
     },
     "execution_count": 44,
     "metadata": {},
     "output_type": "execute_result"
    }
   ],
   "source": [
    "vg.head()"
   ]
  },
  {
   "cell_type": "code",
   "execution_count": 45,
   "id": "d8632ee1",
   "metadata": {},
   "outputs": [
    {
     "data": {
      "text/plain": [
       "Action          3251\n",
       "Sports          2304\n",
       "Misc            1686\n",
       "Role-Playing    1470\n",
       "Shooter         1282\n",
       "Adventure       1274\n",
       "Racing          1225\n",
       "Platform         875\n",
       "Simulation       848\n",
       "Fighting         836\n",
       "Strategy         670\n",
       "Puzzle           570\n",
       "Name: Genre, dtype: int64"
      ]
     },
     "execution_count": 45,
     "metadata": {},
     "output_type": "execute_result"
    }
   ],
   "source": [
    "vg['Genre'].value_counts()\n"
   ]
  },
  {
   "cell_type": "code",
   "execution_count": 46,
   "id": "4bc57e4d",
   "metadata": {},
   "outputs": [],
   "source": [
    "class Genre():\n",
    "    def __init__(self):\n",
    "        self.counts = 3000\n",
    "        print(\"The best game genre!\")\n",
    "    def must (self,amount):\n",
    "        self.counts +=500\n",
    "        print(\"I have to play it!\")\n",
    "    def get (self,amount):\n",
    "        self.counts < 3000\n",
    "        print(\"I can try it sometimes\")\n",
    "    def try_me (self,amount):\n",
    "        self.counts < 1000\n",
    "        print(\"Okay, I will try it later\")\n",
    "    \n",
    "    "
   ]
  },
  {
   "cell_type": "code",
   "execution_count": 47,
   "id": "8fb791d4",
   "metadata": {},
   "outputs": [
    {
     "name": "stdout",
     "output_type": "stream",
     "text": [
      "The best game genre!\n",
      "I have to play it!\n",
      "I can try it sometimes\n",
      "Okay, I will try it later\n",
      "\n"
     ]
    }
   ],
   "source": [
    "genre = Genre()\n",
    "genre.must(3100)\n",
    "genre.get(2000)\n",
    "genre.try_me(900)\n",
    "\n",
    "print()"
   ]
  },
  {
   "cell_type": "markdown",
   "id": "789e7a5b",
   "metadata": {},
   "source": [
    "# VIDEO GAME SALE CONCLUSION"
   ]
  },
  {
   "cell_type": "code",
   "execution_count": 48,
   "id": "878d3ada",
   "metadata": {},
   "outputs": [
    {
     "name": "stdout",
     "output_type": "stream",
     "text": [
      "Data analysis summary :\n",
      "Action genre the best genre sales in worldwide like Grand Theft\n",
      "Super Mario is in top 5 for four sales\n",
      "Ps2 is the most platform use in world wide for example Kingdom Hearts\n"
     ]
    }
   ],
   "source": [
    "game_favorite_genre = (\"Action genre\", \"the best genre sales in worldwide\",\"example\", \"like\", 3251,\"Grand Theft\", \"FIFA Soccer 13\",\"Resident Evil 2\")\n",
    "game_favorite_name = (\"Super Mario\", \"is in top 5 for four sales\",\"in\",\"for\", \"NA_Sales\", \"JP_Sales\", \"EU_Sales, Other_sales\")\n",
    "favorite_platform_use = (\"Ps2 is the most platform use\", \"in world wide\",\"for example\", \"Kingdom Hearts\", \"Medal of Honor: Frontline\", \"Final Fantasy XII\")\n",
    "\n",
    "print(\"Data analysis summary :\")\n",
    "\n",
    "print(game_favorite_genre[0], game_favorite_genre[1], game_favorite_genre[3],  game_favorite_genre[5])\n",
    "\n",
    "print(game_favorite_name[0], game_favorite_name[1])\n",
    "\n",
    "print(favorite_platform_use[0], favorite_platform_use[1], favorite_platform_use[2], favorite_platform_use[3])\n"
   ]
  },
  {
   "cell_type": "code",
   "execution_count": null,
   "id": "89142f45",
   "metadata": {},
   "outputs": [],
   "source": []
  },
  {
   "cell_type": "code",
   "execution_count": null,
   "id": "11c7630d",
   "metadata": {},
   "outputs": [],
   "source": [
    "\n",
    "    \n",
    "    "
   ]
  },
  {
   "cell_type": "code",
   "execution_count": null,
   "id": "e2ceac97",
   "metadata": {},
   "outputs": [],
   "source": []
  }
 ],
 "metadata": {
  "kernelspec": {
   "display_name": "Python 3",
   "language": "python",
   "name": "python3"
  },
  "language_info": {
   "codemirror_mode": {
    "name": "ipython",
    "version": 3
   },
   "file_extension": ".py",
   "mimetype": "text/x-python",
   "name": "python",
   "nbconvert_exporter": "python",
   "pygments_lexer": "ipython3",
   "version": "3.8.8"
  }
 },
 "nbformat": 4,
 "nbformat_minor": 5
}
